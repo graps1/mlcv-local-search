{
 "cells": [
  {
   "cell_type": "code",
   "execution_count": null,
   "metadata": {},
   "outputs": [],
   "source": [
    "import pandas as pd\n",
    "dfmeta = pd.read_csv(\"./experiments/meta.csv\")\n",
    "dfruns = pd.read_csv(\"./experiments/runs.csv\")\n",
    "dfdata = pd.read_csv(\"./experiments/data.csv\")\n",
    "\n",
    "settings = [\"2-S-S-IP10\", \n",
    "            \"2-S-S-IP50\",\n",
    "            \"2-S-S-IP100\"]\n",
    "\n",
    "def get_setting_meta(setting):\n",
    "    return dfmeta[ dfmeta[\"settingname\"] == setting ].iloc[0]"
   ]
  },
  {
   "cell_type": "code",
   "execution_count": null,
   "metadata": {},
   "outputs": [],
   "source": [
    "print(\"setting\\t\\truntime\\t\\titercount\")\n",
    "print(\"-\"*50)\n",
    "for setting in dfmeta[\"settingname\"]:\n",
    "    selected = dfruns[dfruns[\"run\"] == setting]\n",
    "    runtime = (selected[\"t_neighbours\"].sum() + selected[\"t_rcs_sum\"].sum())/1000\n",
    "    itercount  = selected.shape[0]\n",
    "    if len(setting) >= 7: # some ad-hoc code for nicer formatting\n",
    "        print(\"%s\\t%.2f\\t\\t%s\" % (setting, runtime, itercount))\n",
    "    else:\n",
    "        print(\"%s\\t\\t%.2f\\t\\t%s\" % (setting, runtime, itercount))"
   ]
  },
  {
   "cell_type": "code",
   "execution_count": null,
   "metadata": {},
   "outputs": [],
   "source": [
    "import matplotlib.pyplot as plt\n",
    "from mlcv import render_stats\n",
    "\n",
    "fig, allaxes = plt.subplots(3,len(settings), figsize=(18,8))\n",
    "for axes, setting in zip(allaxes.T, settings):\n",
    "    selected = dfruns[dfruns[\"run\"] == setting]\n",
    "    _axes = (axes[0], None, None, axes[1], axes[2], None)\n",
    "    render_stats(selected, axes=_axes)\n",
    "fig.tight_layout()"
   ]
  },
  {
   "cell_type": "code",
   "execution_count": null,
   "metadata": {},
   "outputs": [],
   "source": [
    "from mlcv import render_pcl\n",
    "import numpy as np\n",
    "\n",
    "# figure out distinct datasets\n",
    "# compare settings on distinct datasets\n",
    "dindices = sorted({ get_setting_meta(setting)[\"didx\"] for setting in settings })\n",
    "rows, cols = len(dindices), len(settings)+1\n",
    "\n",
    "fig = plt.figure(figsize=(20,12))\n",
    "for axidxrow, didx in enumerate(dindices):\n",
    "    selected = dfdata[dfdata[\"didx\"]==didx]\n",
    "    gt =       selected[\"gt\"].to_numpy()\n",
    "    data = selected[[\"x\",\"y\",\"z\"]].to_numpy()\n",
    "    ax = fig.add_subplot(rows, cols, axidxrow*cols+1, projection=\"3d\")\n",
    "    ax.set_title(\"ground truth (ds %d)\" % didx)\n",
    "    render_pcl(data, gt, ax=ax)\n",
    "    \n",
    "for sidx, setting in enumerate(settings):\n",
    "    selected_setting = get_setting_meta(setting)\n",
    "    didx = selected_setting[\"didx\"]\n",
    "    selected_data = dfdata[ dfdata[\"didx\"] == didx]\n",
    "    data = selected_data[[\"x\", \"y\", \"z\"]].to_numpy()\n",
    "    part = selected_data[setting].to_numpy()\n",
    "    \n",
    "    axidxrow = np.where(dindices==didx)[0][0]\n",
    "    axidxcol = sidx+1\n",
    "    ax = fig.add_subplot(rows, cols, axidxrow*cols+axidxcol+1, projection='3d')\n",
    "    ax.set_title(\"predicted (run '%s')\" % setting )\n",
    "    render_pcl(data, part, ax=ax)\n",
    "    "
   ]
  },
  {
   "cell_type": "code",
   "execution_count": null,
   "metadata": {},
   "outputs": [],
   "source": []
  },
  {
   "cell_type": "code",
   "execution_count": null,
   "metadata": {},
   "outputs": [],
   "source": []
  }
 ],
 "metadata": {
  "kernelspec": {
   "display_name": "Python 3.6.9 64-bit",
   "language": "python",
   "name": "python36964bit019ac1ddd4de423abf9b086ca7e6df0b"
  },
  "language_info": {
   "codemirror_mode": {
    "name": "ipython",
    "version": 3
   },
   "file_extension": ".py",
   "mimetype": "text/x-python",
   "name": "python",
   "nbconvert_exporter": "python",
   "pygments_lexer": "ipython3",
   "version": "3.8.5"
  }
 },
 "nbformat": 4,
 "nbformat_minor": 4
}
