{
 "cells": [
  {
   "cell_type": "code",
   "execution_count": null,
   "metadata": {},
   "outputs": [],
   "source": [
    "%matplotlib notebook\n",
    "\n",
    "import numpy as np\n",
    "import matplotlib.pyplot as plt\n",
    "from mlcv import generate_points, render_pcl\n",
    "\n",
    "# fix a random seed for numpy so we get the same point cloud in every run\n",
    "np.random.seed(1)\n",
    "# generate a set of data points \n",
    "data,ground_truth = generate_points(noise=[0.01]*3, distribution=[200 ]*3)\n",
    "# render the resulting point cloud\n",
    "fig = plt.figure(figsize=(4,4))\n",
    "ax1 = fig.add_subplot(1,1,1,projection='3d')\n",
    "render_pcl(data,ground_truth,ax=ax1)"
   ]
  },
  {
   "cell_type": "code",
   "execution_count": null,
   "metadata": {
    "scrolled": false,
    "tags": [
     "outputPrepend"
    ]
   },
   "outputs": [],
   "source": [
    "from mlcv import distance_to_origin, cost, reduced_cost, greedy_search, render_stats\n",
    "from tqdm.notebook import trange, tqdm\n",
    "\n",
    "# define cost functions\n",
    "def cf_prime(data,combs):\n",
    "    dthr = 0.1\n",
    "    return distance_to_origin(data,combs) - dthr\n",
    "\n",
    "def cf(data,combs):\n",
    "    return np.zeros(combs.shape[0])\n",
    "\n",
    "# initialize indexing\n",
    "indexing = np.random.choice(1,data.shape[0])\n",
    "# initialize stopping criteria, set up list for stats gathered over runtime\n",
    "stop, stats = 2000, []\n",
    "# initialize local search algorithm\n",
    "alg = greedy_search(data, indexing, cf, cf_prime, stop=stop, N=50, M=4000)\n",
    "\n",
    "# create iterator over resulting indexings with nice looking progress-bar\n",
    "current_indexing = indexing\n",
    "pbar = tqdm(alg, total=stop)\n",
    "for indexing, v, k, stats_bm in pbar:\n",
    "    current_indexing = indexing\n",
    "    stats.append(stats_bm)\n",
    "    pbar.set_description(\"partitions %03d\" % stats_bm[\"partcount\"])\n",
    "\n",
    "# render statistics\n",
    "render_stats(stats)\n",
    "plt.tight_layout()"
   ]
  },
  {
   "cell_type": "code",
   "execution_count": null,
   "metadata": {
    "scrolled": false
   },
   "outputs": [],
   "source": [
    "from mlcv import render_overlap\n",
    "# render guessed partitions & compare with ground truth information\n",
    "fig = plt.figure(figsize=(8,6))\n",
    "ax1 = fig.add_subplot(1,2,1,projection='3d')\n",
    "ax2 = fig.add_subplot(1,2,2)\n",
    "render_pcl(data, current_indexing, ax=ax1)\n",
    "render_overlap(ground_truth, current_indexing, ax=ax2, \n",
    "               indexing1name=\"ground truth\", indexing2name=\"predicted\")"
   ]
  },
  {
   "cell_type": "code",
   "execution_count": null,
   "metadata": {},
   "outputs": [],
   "source": []
  },
  {
   "cell_type": "code",
   "execution_count": null,
   "metadata": {},
   "outputs": [],
   "source": []
  }
 ],
 "metadata": {
  "kernelspec": {
   "display_name": "Python 3.6.9 64-bit",
   "language": "python",
   "name": "python36964bit019ac1ddd4de423abf9b086ca7e6df0b"
  },
  "language_info": {
   "codemirror_mode": {
    "name": "ipython",
    "version": 3
   },
   "file_extension": ".py",
   "mimetype": "text/x-python",
   "name": "python",
   "nbconvert_exporter": "python",
   "pygments_lexer": "ipython3",
   "version": "3.8.5"
  }
 },
 "nbformat": 4,
 "nbformat_minor": 2
}
